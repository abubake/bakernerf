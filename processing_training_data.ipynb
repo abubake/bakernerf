{
 "cells": [
  {
   "cell_type": "markdown",
   "metadata": {},
   "source": [
    "# Generating folder of training and test data"
   ]
  },
  {
   "cell_type": "markdown",
   "metadata": {},
   "source": [
    "Once data has been generated in omniverse code or blender, ensure the images and poses are not within additional files, but are directly in the folder specified in the data_dir. For example, in folder datasets/exData/ we have all the images and a json file for the poses to be processed in the case of using blender."
   ]
  },
  {
   "cell_type": "markdown",
   "metadata": {},
   "source": [
    "Simply change the folder_name variable to that of your folder"
   ]
  },
  {
   "cell_type": "code",
   "execution_count": 1,
   "metadata": {},
   "outputs": [],
   "source": [
    "from datagen import sort_and_name_images\n",
    "from datagen import blender_pose_and_intrinsics\n",
    "from datagen import omniverse_seperate_training_and_test_pose_and_intrinsics"
   ]
  },
  {
   "cell_type": "code",
   "execution_count": 2,
   "metadata": {},
   "outputs": [],
   "source": [
    "folder_name = 'datasets/monkey_3'\n",
    "data_dir = '/home/eherrin@ad.ufl.edu/code/bakernerf/' + folder_name"
   ]
  },
  {
   "cell_type": "code",
   "execution_count": 3,
   "metadata": {},
   "outputs": [
    {
     "data": {
      "text/plain": [
       "100"
      ]
     },
     "execution_count": 3,
     "metadata": {},
     "output_type": "execute_result"
    }
   ],
   "source": [
    "sort_and_name_images(using_blender=True, training_split = 1, img_folder = \"imgs\", project_data_dir=data_dir)"
   ]
  },
  {
   "cell_type": "code",
   "execution_count": null,
   "metadata": {},
   "outputs": [],
   "source": [
    "# import json as json\n",
    "# import os as os\n",
    "# json_files = [f for f in os.listdir('/home/eherrin@ad.ufl.edu/code/bakernerf/datasets/monkey_3') if f.endswith('.json')]"
   ]
  },
  {
   "cell_type": "code",
   "execution_count": null,
   "metadata": {},
   "outputs": [],
   "source": [
    "# with open(os.path.join('/home/eherrin@ad.ufl.edu/code/bakernerf/datasets/monkey_3', json_files[0]), 'r') as file:\n",
    "\n",
    "#         data = json.load(file) # load the json file containing all the poses\n",
    "        \n",
    "#         for i, frame in enumerate(data['frames']):\n",
    "#             print(i)\n",
    "#             mat = frame['transform_matrix']\n",
    "#             print(mat)"
   ]
  },
  {
   "cell_type": "code",
   "execution_count": null,
   "metadata": {},
   "outputs": [],
   "source": [
    "blender_pose_and_intrinsics(training_split=1,focal = 120.,train_folder = 'train',project_data_dir=data_dir)"
   ]
  },
  {
   "cell_type": "code",
   "execution_count": null,
   "metadata": {},
   "outputs": [],
   "source": [
    "omniverse_seperate_training_and_test_pose_and_intrinsics(train_folder = 'train',project_data_dir=data_dir)"
   ]
  }
 ],
 "metadata": {
  "kernelspec": {
   "display_name": "Python 3",
   "language": "python",
   "name": "python3"
  },
  "language_info": {
   "codemirror_mode": {
    "name": "ipython",
    "version": 3
   },
   "file_extension": ".py",
   "mimetype": "text/x-python",
   "name": "python",
   "nbconvert_exporter": "python",
   "pygments_lexer": "ipython3",
   "version": "3.12.2"
  }
 },
 "nbformat": 4,
 "nbformat_minor": 2
}
