{
 "cells": [
  {
   "cell_type": "code",
   "execution_count": null,
   "id": "257860de-71ad-4386-88bd-fc945e3bc256",
   "metadata": {},
   "outputs": [],
   "source": [
    "import torch\n",
    "import torch.nn as nn\n",
    "import numpy as np\n",
    "\n",
    "import os\n",
    "import imageio\n",
    "import matplotlib.pyplot as plt\n",
    "from torch.utils.data import DataLoader\n",
    "\n",
    "from dataset import get_rays\n",
    "from model import Nerf\n",
    "from ml_helpers import training\n",
    "from ml_helpers import testing\n",
    "# from visualization import get_c2w_poses\n",
    "# from visualization import visualize_camera_poses\n",
    "# from visualization import visualize_rays"
   ]
  },
  {
   "cell_type": "markdown",
   "id": "5922e325-8976-4a36-88aa-908cbe4d3953",
   "metadata": {},
   "source": [
    "# Camera / Dataset"
   ]
  },
  {
   "cell_type": "code",
   "execution_count": null,
   "id": "3b7f1c4c",
   "metadata": {},
   "outputs": [],
   "source": [
    "# poses = get_c2w_poses(datapath='fox', mode='train')\n",
    "\n",
    "# visualize_camera_poses(poses)"
   ]
  },
  {
   "cell_type": "code",
   "execution_count": null,
   "id": "66e62ab8-9524-48b6-a646-01b27c9a3fd6",
   "metadata": {},
   "outputs": [],
   "source": [
    "batch_size = 1024\n",
    "height = 400\n",
    "width = 400\n",
    "\n",
    "o, d, target_px_values = get_rays('fox', mode='train')\n",
    "dataloader = DataLoader(torch.cat((torch.from_numpy(o).reshape(-1, 3).type(torch.float),\n",
    "                                   torch.from_numpy(d).reshape(-1, 3).type(torch.float),\n",
    "                                   torch.from_numpy(target_px_values).reshape(-1, 3).type(torch.float)), dim=1),\n",
    "                       batch_size=batch_size, shuffle=True)\n",
    "\n",
    "\n",
    "dataloader_warmup = DataLoader(torch.cat((torch.from_numpy(o).reshape(90, 400, 400, 3)[:, 100:300, 100:300, :].reshape(-1, 3).type(torch.float),\n",
    "                               torch.from_numpy(d).reshape(90, 400, 400, 3)[:, 100:300, 100:300, :].reshape(-1, 3).type(torch.float),\n",
    "                               torch.from_numpy(target_px_values).reshape(90, 400, 400, 3)[:, 100:300, 100:300, :].reshape(-1, 3).type(torch.float)), dim=1),\n",
    "                       batch_size=batch_size, shuffle=True)\n",
    "\n",
    "\n",
    "test_o, test_d, test_target_px_values = get_rays('fox', mode='test')"
   ]
  },
  {
   "cell_type": "code",
   "execution_count": null,
   "id": "5f0fd6ed",
   "metadata": {},
   "outputs": [],
   "source": [
    "#visualize_rays(origins=o, directions=-d, num_rays_to_sample_per_set=1)"
   ]
  },
  {
   "cell_type": "markdown",
   "id": "bbcc6284-ff38-4a9d-a914-7cd8ff9163fb",
   "metadata": {},
   "source": [
    "# Training - Change model name"
   ]
  },
  {
   "cell_type": "code",
   "execution_count": null,
   "id": "230bd02d",
   "metadata": {},
   "outputs": [],
   "source": [
    "pth_file = 'nerf_models/fox_a6.pth'"
   ]
  },
  {
   "cell_type": "code",
   "execution_count": null,
   "id": "edd96eec-e258-469d-8781-da1dc2bd1ca6",
   "metadata": {},
   "outputs": [],
   "source": [
    "device = 'cuda'\n",
    "\n",
    "tn = 8.\n",
    "tf = 12.\n",
    "nb_epochs = 10\n",
    "lr = 1e-3\n",
    "gamma = .5\n",
    "nb_bins = 100\n",
    "\n",
    "model = Nerf(hidden_dim=128).to(device)\n",
    "optimizer = torch.optim.Adam(model.parameters(), lr=lr)\n",
    "scheduler = torch.optim.lr_scheduler.MultiStepLR(optimizer, milestones=[5, 10], gamma=gamma)\n",
    "\n",
    "\n",
    "training_loss = training(model, optimizer, scheduler, tn, tf, nb_bins, 1, dataloader_warmup, model_name=pth_file, device=device)\n",
    "plt.plot(training_loss)\n",
    "plt.show()\n",
    "training_loss = training(model, optimizer, scheduler, tn, tf, nb_bins, nb_epochs, dataloader, model_name=pth_file, device=device)\n",
    "plt.plot(training_loss)\n",
    "plt.show()"
   ]
  },
  {
   "cell_type": "markdown",
   "id": "58a37dea",
   "metadata": {},
   "source": [
    "# Testing"
   ]
  },
  {
   "cell_type": "code",
   "execution_count": null,
   "id": "1a60614e",
   "metadata": {},
   "outputs": [],
   "source": [
    "model_pth = torch.load(pth_file)\n",
    "\n",
    "device = 'cpu'\n",
    "test_img_idx = 1\n",
    "\n",
    "img,_,psnr = testing(model=model_pth, o=torch.from_numpy(test_o[test_img_idx]).to(device).float(), d=torch.from_numpy(test_d[test_img_idx]).to(device).float(),\n",
    "            tn=0, tf=1000., nb_bins=100, chunk_size=60, H=height, W=width,target=test_target_px_values[test_img_idx].reshape(height,width,3))\n",
    "    \n",
    "plt.subplot(1, 2, 1)\n",
    "plt.imshow(test_target_px_values[test_img_idx].reshape(height,width,3))\n",
    "\n",
    "plt.subplot(1, 2, 2)\n",
    "plt.imshow(img); print(\"PSNR of test image:\", np.round(psnr,4)); print(\"Test view: \", test_img_idx)"
   ]
  }
 ],
 "metadata": {
  "kernelspec": {
   "display_name": "Python 3 (ipykernel)",
   "language": "python",
   "name": "python3"
  },
  "language_info": {
   "codemirror_mode": {
    "name": "ipython",
    "version": 3
   },
   "file_extension": ".py",
   "mimetype": "text/x-python",
   "name": "python",
   "nbconvert_exporter": "python",
   "pygments_lexer": "ipython3",
   "version": "3.12.2"
  }
 },
 "nbformat": 4,
 "nbformat_minor": 5
}
