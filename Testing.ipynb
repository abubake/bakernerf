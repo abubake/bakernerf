{
 "cells": [
  {
   "cell_type": "code",
   "execution_count": 1,
   "id": "3f2597cc-246d-47b0-a3a2-12ae9aab1b80",
   "metadata": {},
   "outputs": [],
   "source": [
    "import torch\n",
    "import torch.nn as nn\n",
    "import numpy as np\n",
    "\n",
    "import os\n",
    "import imageio\n",
    "import matplotlib.pyplot as plt\n",
    "from torch.utils.data import DataLoader\n",
    "\n",
    "from dataset import get_rays\n",
    "from rendering import rendering\n",
    "from model import Voxels, Nerf\n",
    "from ml_helpers import training"
   ]
  },
  {
   "cell_type": "code",
   "execution_count": 2,
   "id": "498415ee-07d8-4fed-b9b7-e2a17e889f27",
   "metadata": {},
   "outputs": [],
   "source": [
    "test_o, test_d, test_target_px_values = get_rays('fox', mode='test')"
   ]
  },
  {
   "cell_type": "code",
   "execution_count": 3,
   "id": "661b1702-95f8-4907-8ba5-9d89bb89d48b",
   "metadata": {},
   "outputs": [],
   "source": [
    "device = 'cuda'\n",
    "tn = 8.\n",
    "tf = 12."
   ]
  },
  {
   "cell_type": "code",
   "execution_count": 4,
   "id": "00a26fa6-7074-44d2-a3f0-261e78b1fb00",
   "metadata": {},
   "outputs": [],
   "source": [
    "model = torch.load('fox_a0').to(device)"
   ]
  },
  {
   "cell_type": "code",
   "execution_count": 5,
   "id": "309abb3d-5763-40e9-8d90-f8878bb22752",
   "metadata": {},
   "outputs": [],
   "source": [
    "def mse2psnr(mse):\n",
    "    return 20 * np.log10(1 / np.sqrt(mse))\n",
    "\n",
    "\n",
    "@torch.no_grad()\n",
    "def test(model, o, d, tn, tf, nb_bins=100, chunk_size=10, H=400, W=400, target=None):\n",
    "    \n",
    "    o = o.chunk(chunk_size)\n",
    "    d = d.chunk(chunk_size)\n",
    "    \n",
    "    image = []\n",
    "    for o_batch, d_batch in zip(o, d):\n",
    "        img_batch = rendering(model, o_batch, d_batch, tn, tf, nb_bins=nb_bins, device=o_batch.device)\n",
    "        image.append(img_batch) # N, 3\n",
    "    image = torch.cat(image)\n",
    "    image = image.reshape(H, W, 3).cpu().numpy()\n",
    "    \n",
    "    if target is not None:\n",
    "        mse = ((image - target)**2).mean()\n",
    "        psnr = mse2psnr(mse)\n",
    "    \n",
    "    if target is not None: \n",
    "        return image, mse, psnr\n",
    "    else:\n",
    "        return image"
   ]
  },
  {
   "cell_type": "code",
   "execution_count": 7,
   "id": "9aa0672a-332f-43c1-8285-f4d1d63101c4",
   "metadata": {},
   "outputs": [
    {
     "ename": "OutOfMemoryError",
     "evalue": "CUDA out of memory. Tried to allocate 386.00 MiB. GPU 0 has a total capacity of 7.78 GiB of which 168.75 MiB is free. Process 1960431 has 10.50 MiB memory in use. Process 2982825 has 232.00 MiB memory in use. Process 3376952 has 3.42 GiB memory in use. Process 3387376 has 1.03 GiB memory in use. Including non-PyTorch memory, this process has 1.98 GiB memory in use. Of the allocated memory 1.75 GiB is allocated by PyTorch, and 48.28 MiB is reserved by PyTorch but unallocated. If reserved but unallocated memory is large try setting PYTORCH_CUDA_ALLOC_CONF=expandable_segments:True to avoid fragmentation.  See documentation for Memory Management  (https://pytorch.org/docs/stable/notes/cuda.html#environment-variables)",
     "output_type": "error",
     "traceback": [
      "\u001b[0;31m---------------------------------------------------------------------------\u001b[0m",
      "\u001b[0;31mOutOfMemoryError\u001b[0m                          Traceback (most recent call last)",
      "Cell \u001b[0;32mIn[7], line 1\u001b[0m\n\u001b[0;32m----> 1\u001b[0m img, mse, psnr \u001b[38;5;241m=\u001b[39m test(model, torch\u001b[38;5;241m.\u001b[39mfrom_numpy(test_o[\u001b[38;5;241m0\u001b[39m])\u001b[38;5;241m.\u001b[39mto(device)\u001b[38;5;241m.\u001b[39mfloat(), torch\u001b[38;5;241m.\u001b[39mfrom_numpy(test_d[\u001b[38;5;241m0\u001b[39m])\u001b[38;5;241m.\u001b[39mto(device)\u001b[38;5;241m.\u001b[39mfloat(),\n\u001b[1;32m      2\u001b[0m                 tn, tf, nb_bins\u001b[38;5;241m=\u001b[39m\u001b[38;5;241m100\u001b[39m, chunk_size\u001b[38;5;241m=\u001b[39m\u001b[38;5;241m10\u001b[39m, target\u001b[38;5;241m=\u001b[39mtest_target_px_values[\u001b[38;5;241m0\u001b[39m]\u001b[38;5;241m.\u001b[39mreshape(\u001b[38;5;241m400\u001b[39m, \u001b[38;5;241m400\u001b[39m, \u001b[38;5;241m3\u001b[39m))\n\u001b[1;32m      4\u001b[0m \u001b[38;5;28mprint\u001b[39m(psnr)\n",
      "File \u001b[0;32m~/anaconda3/lib/python3.11/site-packages/torch/utils/_contextlib.py:115\u001b[0m, in \u001b[0;36mcontext_decorator.<locals>.decorate_context\u001b[0;34m(*args, **kwargs)\u001b[0m\n\u001b[1;32m    112\u001b[0m \u001b[38;5;129m@functools\u001b[39m\u001b[38;5;241m.\u001b[39mwraps(func)\n\u001b[1;32m    113\u001b[0m \u001b[38;5;28;01mdef\u001b[39;00m \u001b[38;5;21mdecorate_context\u001b[39m(\u001b[38;5;241m*\u001b[39margs, \u001b[38;5;241m*\u001b[39m\u001b[38;5;241m*\u001b[39mkwargs):\n\u001b[1;32m    114\u001b[0m     \u001b[38;5;28;01mwith\u001b[39;00m ctx_factory():\n\u001b[0;32m--> 115\u001b[0m         \u001b[38;5;28;01mreturn\u001b[39;00m func(\u001b[38;5;241m*\u001b[39margs, \u001b[38;5;241m*\u001b[39m\u001b[38;5;241m*\u001b[39mkwargs)\n",
      "Cell \u001b[0;32mIn[5], line 13\u001b[0m, in \u001b[0;36mtest\u001b[0;34m(model, o, d, tn, tf, nb_bins, chunk_size, H, W, target)\u001b[0m\n\u001b[1;32m     11\u001b[0m image \u001b[38;5;241m=\u001b[39m []\n\u001b[1;32m     12\u001b[0m \u001b[38;5;28;01mfor\u001b[39;00m o_batch, d_batch \u001b[38;5;129;01min\u001b[39;00m \u001b[38;5;28mzip\u001b[39m(o, d):\n\u001b[0;32m---> 13\u001b[0m     img_batch \u001b[38;5;241m=\u001b[39m rendering(model, o_batch, d_batch, tn, tf, nb_bins\u001b[38;5;241m=\u001b[39mnb_bins, device\u001b[38;5;241m=\u001b[39mo_batch\u001b[38;5;241m.\u001b[39mdevice)\n\u001b[1;32m     14\u001b[0m     image\u001b[38;5;241m.\u001b[39mappend(img_batch) \u001b[38;5;66;03m# N, 3\u001b[39;00m\n\u001b[1;32m     15\u001b[0m image \u001b[38;5;241m=\u001b[39m torch\u001b[38;5;241m.\u001b[39mcat(image)\n",
      "File \u001b[0;32m~/code/nerf_test/rendering.py:15\u001b[0m, in \u001b[0;36mrendering\u001b[0;34m(model, rays_o, rays_d, tn, tf, nb_bins, device, white_bckgr)\u001b[0m\n\u001b[1;32m     11\u001b[0m delta \u001b[38;5;241m=\u001b[39m torch\u001b[38;5;241m.\u001b[39mcat((t[\u001b[38;5;241m1\u001b[39m:] \u001b[38;5;241m-\u001b[39m t[:\u001b[38;5;241m-\u001b[39m\u001b[38;5;241m1\u001b[39m], torch\u001b[38;5;241m.\u001b[39mtensor([\u001b[38;5;241m1e10\u001b[39m], device\u001b[38;5;241m=\u001b[39mdevice)))\n\u001b[1;32m     13\u001b[0m x \u001b[38;5;241m=\u001b[39m rays_o\u001b[38;5;241m.\u001b[39munsqueeze(\u001b[38;5;241m1\u001b[39m) \u001b[38;5;241m+\u001b[39m t\u001b[38;5;241m.\u001b[39munsqueeze(\u001b[38;5;241m0\u001b[39m)\u001b[38;5;241m.\u001b[39munsqueeze(\u001b[38;5;241m-\u001b[39m\u001b[38;5;241m1\u001b[39m) \u001b[38;5;241m*\u001b[39m rays_d\u001b[38;5;241m.\u001b[39munsqueeze(\u001b[38;5;241m1\u001b[39m) \u001b[38;5;66;03m# [nb_rays, nb_bins, 3]    \u001b[39;00m\n\u001b[0;32m---> 15\u001b[0m colors, density \u001b[38;5;241m=\u001b[39m model\u001b[38;5;241m.\u001b[39mintersect(x\u001b[38;5;241m.\u001b[39mreshape(\u001b[38;5;241m-\u001b[39m\u001b[38;5;241m1\u001b[39m, \u001b[38;5;241m3\u001b[39m), rays_d\u001b[38;5;241m.\u001b[39mexpand(x\u001b[38;5;241m.\u001b[39mshape[\u001b[38;5;241m1\u001b[39m], x\u001b[38;5;241m.\u001b[39mshape[\u001b[38;5;241m0\u001b[39m], \u001b[38;5;241m3\u001b[39m)\u001b[38;5;241m.\u001b[39mtranspose(\u001b[38;5;241m0\u001b[39m, \u001b[38;5;241m1\u001b[39m)\u001b[38;5;241m.\u001b[39mreshape(\u001b[38;5;241m-\u001b[39m\u001b[38;5;241m1\u001b[39m, \u001b[38;5;241m3\u001b[39m))\n\u001b[1;32m     17\u001b[0m colors \u001b[38;5;241m=\u001b[39m colors\u001b[38;5;241m.\u001b[39mreshape((x\u001b[38;5;241m.\u001b[39mshape[\u001b[38;5;241m0\u001b[39m], nb_bins, \u001b[38;5;241m3\u001b[39m)) \u001b[38;5;66;03m# [nb_rays, nb_bins, 3]\u001b[39;00m\n\u001b[1;32m     18\u001b[0m density \u001b[38;5;241m=\u001b[39m density\u001b[38;5;241m.\u001b[39mreshape((x\u001b[38;5;241m.\u001b[39mshape[\u001b[38;5;241m0\u001b[39m], nb_bins))\n",
      "File \u001b[0;32m~/code/nerf_test/model.py:86\u001b[0m, in \u001b[0;36mNerf.intersect\u001b[0;34m(self, x, d)\u001b[0m\n\u001b[1;32m     85\u001b[0m \u001b[38;5;28;01mdef\u001b[39;00m \u001b[38;5;21mintersect\u001b[39m(\u001b[38;5;28mself\u001b[39m, x, d):\n\u001b[0;32m---> 86\u001b[0m     \u001b[38;5;28;01mreturn\u001b[39;00m \u001b[38;5;28mself\u001b[39m\u001b[38;5;241m.\u001b[39mforward(x, d)\n",
      "File \u001b[0;32m~/code/nerf_test/model.py:73\u001b[0m, in \u001b[0;36mNerf.forward\u001b[0;34m(self, xyz, d)\u001b[0m\n\u001b[1;32m     71\u001b[0m \u001b[38;5;28;01mdef\u001b[39;00m \u001b[38;5;21mforward\u001b[39m(\u001b[38;5;28mself\u001b[39m, xyz, d):\n\u001b[0;32m---> 73\u001b[0m     x_emb \u001b[38;5;241m=\u001b[39m \u001b[38;5;28mself\u001b[39m\u001b[38;5;241m.\u001b[39mpositional_encoding(xyz, \u001b[38;5;28mself\u001b[39m\u001b[38;5;241m.\u001b[39mLpos) \u001b[38;5;66;03m# [batch_size, Lpos * 6 + 3]\u001b[39;00m\n\u001b[1;32m     74\u001b[0m     d_emb \u001b[38;5;241m=\u001b[39m \u001b[38;5;28mself\u001b[39m\u001b[38;5;241m.\u001b[39mpositional_encoding(d, \u001b[38;5;28mself\u001b[39m\u001b[38;5;241m.\u001b[39mLdir) \u001b[38;5;66;03m# [batch_size, Ldir * 6 + 3]\u001b[39;00m\n\u001b[1;32m     76\u001b[0m     h \u001b[38;5;241m=\u001b[39m \u001b[38;5;28mself\u001b[39m\u001b[38;5;241m.\u001b[39mblock1(x_emb) \u001b[38;5;66;03m# [batch_size, hidden_dim]\u001b[39;00m\n",
      "File \u001b[0;32m~/code/nerf_test/model.py:67\u001b[0m, in \u001b[0;36mNerf.positional_encoding\u001b[0;34m(self, x, L)\u001b[0m\n\u001b[1;32m     65\u001b[0m     out\u001b[38;5;241m.\u001b[39mappend(torch\u001b[38;5;241m.\u001b[39msin(\u001b[38;5;241m2\u001b[39m \u001b[38;5;241m*\u001b[39m\u001b[38;5;241m*\u001b[39m j \u001b[38;5;241m*\u001b[39m x))\n\u001b[1;32m     66\u001b[0m     out\u001b[38;5;241m.\u001b[39mappend(torch\u001b[38;5;241m.\u001b[39mcos(\u001b[38;5;241m2\u001b[39m \u001b[38;5;241m*\u001b[39m\u001b[38;5;241m*\u001b[39m j \u001b[38;5;241m*\u001b[39m x))\n\u001b[0;32m---> 67\u001b[0m \u001b[38;5;28;01mreturn\u001b[39;00m torch\u001b[38;5;241m.\u001b[39mcat(out, dim\u001b[38;5;241m=\u001b[39m\u001b[38;5;241m1\u001b[39m)\n",
      "\u001b[0;31mOutOfMemoryError\u001b[0m: CUDA out of memory. Tried to allocate 386.00 MiB. GPU 0 has a total capacity of 7.78 GiB of which 168.75 MiB is free. Process 1960431 has 10.50 MiB memory in use. Process 2982825 has 232.00 MiB memory in use. Process 3376952 has 3.42 GiB memory in use. Process 3387376 has 1.03 GiB memory in use. Including non-PyTorch memory, this process has 1.98 GiB memory in use. Of the allocated memory 1.75 GiB is allocated by PyTorch, and 48.28 MiB is reserved by PyTorch but unallocated. If reserved but unallocated memory is large try setting PYTORCH_CUDA_ALLOC_CONF=expandable_segments:True to avoid fragmentation.  See documentation for Memory Management  (https://pytorch.org/docs/stable/notes/cuda.html#environment-variables)"
     ]
    }
   ],
   "source": [
    "img, mse, psnr = test(model, torch.from_numpy(test_o[0]).to(device).float(), torch.from_numpy(test_d[0]).to(device).float(),\n",
    "                tn, tf, nb_bins=100, chunk_size=10, target=test_target_px_values[0].reshape(400, 400, 3))\n",
    "\n",
    "print(psnr)"
   ]
  },
  {
   "cell_type": "code",
   "execution_count": null,
   "id": "e07ee377-c2b0-420c-bbcd-3e4f2dc04bba",
   "metadata": {},
   "outputs": [
    {
     "ename": "NameError",
     "evalue": "name 'img' is not defined",
     "output_type": "error",
     "traceback": [
      "\u001b[0;31m---------------------------------------------------------------------------\u001b[0m",
      "\u001b[0;31mNameError\u001b[0m                                 Traceback (most recent call last)",
      "Cell \u001b[0;32mIn[7], line 1\u001b[0m\n\u001b[0;32m----> 1\u001b[0m plt\u001b[38;5;241m.\u001b[39mimshow(img)\n",
      "\u001b[0;31mNameError\u001b[0m: name 'img' is not defined"
     ]
    }
   ],
   "source": [
    "plt.imshow(img)"
   ]
  }
 ],
 "metadata": {
  "kernelspec": {
   "display_name": "Python 3 (ipykernel)",
   "language": "python",
   "name": "python3"
  },
  "language_info": {
   "codemirror_mode": {
    "name": "ipython",
    "version": 3
   },
   "file_extension": ".py",
   "mimetype": "text/x-python",
   "name": "python",
   "nbconvert_exporter": "python",
   "pygments_lexer": "ipython3",
   "version": "3.11.5"
  }
 },
 "nbformat": 4,
 "nbformat_minor": 5
}
